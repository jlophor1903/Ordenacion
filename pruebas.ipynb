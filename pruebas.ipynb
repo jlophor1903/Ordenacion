{
 "cells": [
  {
   "cell_type": "code",
   "execution_count": 2,
   "metadata": {},
   "outputs": [
    {
     "name": "stdout",
     "output_type": "stream",
     "text": [
      "pygame 2.6.1 (SDL 2.28.4, Python 3.11.4)\n",
      "Hello from the pygame community. https://www.pygame.org/contribute.html\n"
     ]
    }
   ],
   "source": [
    "import pygame\n",
    "import pygame_widgets"
   ]
  },
  {
   "cell_type": "code",
   "execution_count": 1,
   "metadata": {},
   "outputs": [],
   "source": [
    "n =[]\n",
    "contador = 0 \n",
    "\n",
    "# funciones reutilizables\n",
    "def swap(i):\n",
    "    global n\n",
    "    a= n[i]\n",
    "    n[i] = n[i+1]\n",
    "    n[i+1] = a\n",
    "\n",
    "def agregaNumero(linea) :\n",
    "    global n \n",
    "    n.append(int(tNumero.getText())) \n",
    "    tResultado.set(n) \n",
    "\n",
    "def ordenar():  \n",
    "    parar = 0\n",
    "    global contador \n",
    "    global n \n",
    "    for i in range(len(n)-1):\n",
    "        parar = 1\n",
    "        for j in range(len(n)-1):\n",
    "            if n[j]>n[j+1]:\n",
    "                swap(j)\n",
    "                contador +=1\n",
    "                parar = 0\n",
    "        if parar == 1:\n",
    "            break\n",
    "    tResultado.setText(n)            "
   ]
  },
  {
   "cell_type": "code",
   "execution_count": 3,
   "metadata": {},
   "outputs": [
    {
     "ename": "NameError",
     "evalue": "name 'agregarNumero' is not defined",
     "output_type": "error",
     "traceback": [
      "\u001b[0;31m---------------------------------------------------------------------------\u001b[0m",
      "\u001b[0;31mNameError\u001b[0m                                 Traceback (most recent call last)",
      "Cell \u001b[0;32mIn[3], line 37\u001b[0m\n\u001b[1;32m     34\u001b[0m     \u001b[39mbreak\u001b[39;00m\n\u001b[1;32m     35\u001b[0m win\u001b[39m.\u001b[39mfill((\u001b[39m225\u001b[39m, \u001b[39m255\u001b[39m, \u001b[39m255\u001b[39m))\n\u001b[0;32m---> 37\u001b[0m pygame_widgets\u001b[39m.\u001b[39mupdate(events)\n\u001b[1;32m     38\u001b[0m pygame\u001b[39m.\u001b[39mdisplay\u001b[39m.\u001b[39mupdate()\n",
      "File \u001b[0;32m~/anaconda3/lib/python3.11/site-packages/pygame_widgets/__init__.py:9\u001b[0m, in \u001b[0;36mupdate\u001b[0;34m(events)\u001b[0m\n\u001b[1;32m      7\u001b[0m \u001b[39mdef\u001b[39;00m \u001b[39mupdate\u001b[39m(events: [Event]):\n\u001b[1;32m      8\u001b[0m     Mouse\u001b[39m.\u001b[39mupdateMouseState()\n\u001b[0;32m----> 9\u001b[0m     WidgetHandler\u001b[39m.\u001b[39mmain(events)\n",
      "File \u001b[0;32m~/anaconda3/lib/python3.11/site-packages/pygame_widgets/widget.py:219\u001b[0m, in \u001b[0;36mWidgetHandler.main\u001b[0;34m(events)\u001b[0m\n\u001b[1;32m    217\u001b[0m \u001b[39mfor\u001b[39;00m widget \u001b[39min\u001b[39;00m widgets[::\u001b[39m-\u001b[39m\u001b[39m1\u001b[39m]:\n\u001b[1;32m    218\u001b[0m     \u001b[39mif\u001b[39;00m \u001b[39mnot\u001b[39;00m blocked \u001b[39mor\u001b[39;00m \u001b[39mnot\u001b[39;00m widget\u001b[39m.\u001b[39mcontains(\u001b[39m*\u001b[39mMouse\u001b[39m.\u001b[39mgetMousePos()):\n\u001b[0;32m--> 219\u001b[0m         widget\u001b[39m.\u001b[39mlisten(events)\n\u001b[1;32m    221\u001b[0m     \u001b[39m# Ensure widgets covered by others are not affected (widgets created later)\u001b[39;00m\n\u001b[1;32m    222\u001b[0m     \u001b[39mif\u001b[39;00m widget\u001b[39m.\u001b[39mcontains(\u001b[39m*\u001b[39mMouse\u001b[39m.\u001b[39mgetMousePos()):  \u001b[39m# TODO: Unless 'transparent'\u001b[39;00m\n",
      "File \u001b[0;32m~/anaconda3/lib/python3.11/site-packages/pygame_widgets/button.py:116\u001b[0m, in \u001b[0;36mButton.listen\u001b[0;34m(self, events)\u001b[0m\n\u001b[1;32m    114\u001b[0m \u001b[39melif\u001b[39;00m mouseState \u001b[39m==\u001b[39m MouseState\u001b[39m.\u001b[39mCLICK:\n\u001b[1;32m    115\u001b[0m     \u001b[39mself\u001b[39m\u001b[39m.\u001b[39mclicked \u001b[39m=\u001b[39m \u001b[39mTrue\u001b[39;00m\n\u001b[0;32m--> 116\u001b[0m     \u001b[39mself\u001b[39m\u001b[39m.\u001b[39monClick(\u001b[39m*\u001b[39m\u001b[39mself\u001b[39m\u001b[39m.\u001b[39monClickParams)\n\u001b[1;32m    117\u001b[0m     \u001b[39mself\u001b[39m\u001b[39m.\u001b[39mcolour \u001b[39m=\u001b[39m \u001b[39mself\u001b[39m\u001b[39m.\u001b[39mpressedColour\n\u001b[1;32m    118\u001b[0m     \u001b[39mself\u001b[39m\u001b[39m.\u001b[39mborderColour \u001b[39m=\u001b[39m \u001b[39mself\u001b[39m\u001b[39m.\u001b[39mpressedBorderColour\n",
      "Cell \u001b[0;32mIn[3], line 12\u001b[0m, in \u001b[0;36m<lambda>\u001b[0;34m()\u001b[0m\n\u001b[1;32m      5\u001b[0m win \u001b[39m=\u001b[39m pygame\u001b[39m.\u001b[39mdisplay\u001b[39m.\u001b[39mset_mode((\u001b[39m600\u001b[39m,\u001b[39m600\u001b[39m))\n\u001b[1;32m      6\u001b[0m \u001b[39m# Creates the button with optional parameters\u001b[39;00m\n\u001b[1;32m      7\u001b[0m button \u001b[39m=\u001b[39m Button(\n\u001b[1;32m      8\u001b[0m     win, \u001b[39m100\u001b[39m, \u001b[39m100\u001b[39m, \u001b[39m300\u001b[39m, \u001b[39m100\u001b[39m,\n\u001b[1;32m      9\u001b[0m     \u001b[39m# Optional Parameters\u001b[39;00m\n\u001b[1;32m     10\u001b[0m     text\u001b[39m=\u001b[39m\u001b[39m'\u001b[39m\u001b[39magregar\u001b[39m\u001b[39m'\u001b[39m, frontSize\u001b[39m=\u001b[39m\u001b[39m50\u001b[39m, margin\u001b[39m=\u001b[39m\u001b[39m20\u001b[39m, inactiveColour\u001b[39m=\u001b[39m(\u001b[39m200\u001b[39m, \u001b[39m50\u001b[39m, \u001b[39m0\u001b[39m,), \n\u001b[1;32m     11\u001b[0m     hoverColor\u001b[39m=\u001b[39m(\u001b[39m150\u001b[39m, \u001b[39m0\u001b[39m, \u001b[39m0\u001b[39m,), pressedColour\u001b[39m=\u001b[39m(\u001b[39m0\u001b[39m, \u001b[39m200\u001b[39m, \u001b[39m20\u001b[39m,),\n\u001b[0;32m---> 12\u001b[0m     onClick\u001b[39m=\u001b[39m\u001b[39mlambda\u001b[39;00m: agregarNumero() \u001b[39m# Function to call when clicked on\u001b[39;00m\n\u001b[1;32m     13\u001b[0m )\n\u001b[1;32m     14\u001b[0m button2 \u001b[39m=\u001b[39m Button(\n\u001b[1;32m     15\u001b[0m     win, \u001b[39m100\u001b[39m, \u001b[39m210\u001b[39m, \u001b[39m300\u001b[39m, \u001b[39m100\u001b[39m,\n\u001b[1;32m     16\u001b[0m     \u001b[39m# Optional Parameters\u001b[39;00m\n\u001b[0;32m   (...)\u001b[0m\n\u001b[1;32m     19\u001b[0m     onClick\u001b[39m=\u001b[39m\u001b[39mlambda\u001b[39;00m: ordenar() \u001b[39m# Function to call when clicked on\u001b[39;00m\n\u001b[1;32m     20\u001b[0m )\n\u001b[1;32m     21\u001b[0m tNumero \u001b[39m=\u001b[39m TextBox(win, \u001b[39m100\u001b[39m, \u001b[39m10\u001b[39m, \u001b[39m300\u001b[39m, \u001b[39m70\u001b[39m, frontSize\u001b[39m=\u001b[39m\u001b[39m40\u001b[39m)\n",
      "\u001b[0;31mNameError\u001b[0m: name 'agregarNumero' is not defined"
     ]
    }
   ],
   "source": [
    "from pygame_widgets.button import Button \n",
    "from pygame_widgets.textbox import TextBox\n",
    "# Set up Pygame \n",
    "pygame.init()\n",
    "win = pygame.display.set_mode((600,600))\n",
    "# Creates the button with optional parameters\n",
    "button = Button(\n",
    "    win, 100, 100, 300, 100,\n",
    "    # Optional Parameters\n",
    "    text='agregar', frontSize=50, margin=20, inactiveColour=(200, 50, 0,), \n",
    "    hoverColor=(150, 0, 0,), pressedColour=(0, 200, 20,),\n",
    "    onClick=lambda: agregarNumero() # Function to call when clicked on\n",
    ")\n",
    "button2 = Button(\n",
    "    win, 100, 210, 300, 100,\n",
    "    # Optional Parameters\n",
    "    text='ordenar', frontSize=50, margin=20, inactiveColour=(200, 50, 0,), \n",
    "    hoverColor=(150, 0, 0,), pressedColour=(0, 200, 20,),\n",
    "    onClick=lambda: ordenar() # Function to call when clicked on\n",
    ")\n",
    "tNumero = TextBox(win, 100, 10, 300, 70, frontSize=40)\n",
    "tResultado = TextBox(win, 100, 320, 300, 70, frontSize=40)\n",
    "tResultado.disable()\n",
    "run = True\n",
    "while run:\n",
    "    events = pygame.event.get()\n",
    "    for event in events:\n",
    "        if event.type == pygame.QUIT:\n",
    "            pygame.quit()\n",
    "            run = False\n",
    "            break\n",
    "    \n",
    "    if run==False:\n",
    "        break\n",
    "    win.fill((225, 255, 255))\n",
    "\n",
    "    pygame_widgets.update(events)\n",
    "    pygame.display.update()"
   ]
  }
 ],
 "metadata": {
  "kernelspec": {
   "display_name": "Python 3.11.4 ('base')",
   "language": "python",
   "name": "python3"
  },
  "language_info": {
   "codemirror_mode": {
    "name": "ipython",
    "version": 3
   },
   "file_extension": ".py",
   "mimetype": "text/x-python",
   "name": "python",
   "nbconvert_exporter": "python",
   "pygments_lexer": "ipython3",
   "version": "3.11.4"
  },
  "orig_nbformat": 4,
  "vscode": {
   "interpreter": {
    "hash": "73eb8cc446766af90214859c1bd3ee4068dc6e186fe73dd935e119cfb815a4b3"
   }
  }
 },
 "nbformat": 4,
 "nbformat_minor": 2
}
