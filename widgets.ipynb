{
 "cells": [
  {
   "cell_type": "code",
   "execution_count": 3,
   "metadata": {},
   "outputs": [],
   "source": [
    "import ipywidgets as wid"
   ]
  },
  {
   "cell_type": "code",
   "execution_count": 5,
   "metadata": {},
   "outputs": [],
   "source": [
    "def swap(I):\n",
    "    global n\n",
    "    a = n[i]\n",
    "    n[i] = n[i+1]\n",
    "    n[i+1] = a\n",
    "\n",
    "contador = 0\n",
    "n = []    "
   ]
  },
  {
   "cell_type": "code",
   "execution_count": 6,
   "metadata": {},
   "outputs": [],
   "source": [
    "n = []\n",
    "def agregar(p): \n",
    "    n.append(input.value)\n",
    "def ordenar(p):  \n",
    "    parar = 0\n",
    "    global contador \n",
    "    global n \n",
    "    for i in range(len(n)-1):\n",
    "        parar = 1\n",
    "        for j in range(len(n)-1):\n",
    "            if n[j]>n[j+1]:\n",
    "                swap(j)\n",
    "                contador +=1\n",
    "                parar = 0\n",
    "        if parar == 1:\n",
    "            break    \n",
    "    output.value = str(n)\n",
    "    \n",
    "boton1_agregar = wid.Button(description=\"agregar\")\n",
    "boton2_ordenar = wid.Button(description=\"ordenar\")\n",
    "output = wid.Text()\n",
    "input = wid.Text()\n",
    "boton1_agregar.on_click(agregar)\n",
    "boton2_ordenar.on_click(ordenar)"
   ]
  },
  {
   "cell_type": "code",
   "execution_count": 7,
   "metadata": {},
   "outputs": [
    {
     "data": {
      "application/vnd.jupyter.widget-view+json": {
       "model_id": "ed1cc9090d0f40dc904d309f707acbf6",
       "version_major": 2,
       "version_minor": 0
      },
      "text/plain": [
       "Text(value='')"
      ]
     },
     "metadata": {},
     "output_type": "display_data"
    },
    {
     "data": {
      "application/vnd.jupyter.widget-view+json": {
       "model_id": "8ccdd943795142de8b3aab7b37f92273",
       "version_major": 2,
       "version_minor": 0
      },
      "text/plain": [
       "Button(description='agregar', style=ButtonStyle())"
      ]
     },
     "metadata": {},
     "output_type": "display_data"
    },
    {
     "data": {
      "application/vnd.jupyter.widget-view+json": {
       "model_id": "d58153becef647ad96262f43a52ee3cf",
       "version_major": 2,
       "version_minor": 0
      },
      "text/plain": [
       "Button(description='ordenar', style=ButtonStyle())"
      ]
     },
     "metadata": {},
     "output_type": "display_data"
    },
    {
     "data": {
      "application/vnd.jupyter.widget-view+json": {
       "model_id": "f032f352c5a348259b3a3bdd5de6881b",
       "version_major": 2,
       "version_minor": 0
      },
      "text/plain": [
       "Text(value='')"
      ]
     },
     "metadata": {},
     "output_type": "display_data"
    }
   ],
   "source": [
    "display(input, boton1_agregar, boton2_ordenar, output)"
   ]
  }
 ],
 "metadata": {
  "kernelspec": {
   "display_name": "Python 3.11.4 ('base')",
   "language": "python",
   "name": "python3"
  },
  "language_info": {
   "codemirror_mode": {
    "name": "ipython",
    "version": 3
   },
   "file_extension": ".py",
   "mimetype": "text/x-python",
   "name": "python",
   "nbconvert_exporter": "python",
   "pygments_lexer": "ipython3",
   "version": "3.11.4"
  },
  "orig_nbformat": 4,
  "vscode": {
   "interpreter": {
    "hash": "73eb8cc446766af90214859c1bd3ee4068dc6e186fe73dd935e119cfb815a4b3"
   }
  }
 },
 "nbformat": 4,
 "nbformat_minor": 2
}
